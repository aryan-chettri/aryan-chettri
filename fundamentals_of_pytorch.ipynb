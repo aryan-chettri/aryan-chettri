{
  "nbformat": 4,
  "nbformat_minor": 0,
  "metadata": {
    "colab": {
      "provenance": [],
      "authorship_tag": "ABX9TyMLI/T7a0QclQAsE7PemoDo",
      "include_colab_link": true
    },
    "kernelspec": {
      "name": "python3",
      "display_name": "Python 3"
    },
    "language_info": {
      "name": "python"
    }
  },
  "cells": [
    {
      "cell_type": "markdown",
      "metadata": {
        "id": "view-in-github",
        "colab_type": "text"
      },
      "source": [
        "<a href=\"https://colab.research.google.com/github/aryan-chettri/aryan-chettri/blob/main/fundamentals_of_pytorch.ipynb\" target=\"_parent\"><img src=\"https://colab.research.google.com/assets/colab-badge.svg\" alt=\"Open In Colab\"/></a>"
      ]
    },
    {
      "cell_type": "markdown",
      "source": [
        "This is a pytorch code\n"
      ],
      "metadata": {
        "id": "3BqpsbPk-wcP"
      }
    },
    {
      "cell_type": "code",
      "source": [],
      "metadata": {
        "id": "jUGWsNMc_J-N"
      },
      "execution_count": null,
      "outputs": []
    },
    {
      "cell_type": "code",
      "execution_count": 1,
      "metadata": {
        "colab": {
          "base_uri": "https://localhost:8080/"
        },
        "id": "6D8iYJwn1rXd",
        "outputId": "c60c8f7d-ea1d-449d-e427-2c1f7408acbf"
      },
      "outputs": [
        {
          "output_type": "stream",
          "name": "stdout",
          "text": [
            "/bin/bash: line 1: nvidia-smi: command not found\n"
          ]
        }
      ],
      "source": [
        "!nvidia-smi\n"
      ]
    },
    {
      "cell_type": "code",
      "source": [
        "import torch\n",
        "import pandas as pd\n",
        "import numpy as np\n",
        "import matplotlib.pyplot as plt\n"
      ],
      "metadata": {
        "id": "t15yWzAG_Lyq"
      },
      "execution_count": 2,
      "outputs": []
    },
    {
      "cell_type": "markdown",
      "source": [],
      "metadata": {
        "id": "jOnWIe2O6Tim"
      }
    },
    {
      "cell_type": "code",
      "source": [
        "Tensor = torch.tensor([[[1,2,3],[4,5,6]],[[7,8,9],[10,11,12]],[[13,14,15],[16,17,18]]])"
      ],
      "metadata": {
        "id": "nZIphfz26T6c"
      },
      "execution_count": 3,
      "outputs": []
    },
    {
      "cell_type": "code",
      "source": [
        "Tensor.ndim"
      ],
      "metadata": {
        "colab": {
          "base_uri": "https://localhost:8080/"
        },
        "id": "OZCru46O7Jdd",
        "outputId": "71ae8299-0046-415c-fd80-81f53611dc67"
      },
      "execution_count": 4,
      "outputs": [
        {
          "output_type": "execute_result",
          "data": {
            "text/plain": [
              "3"
            ]
          },
          "metadata": {},
          "execution_count": 4
        }
      ]
    },
    {
      "cell_type": "code",
      "source": [
        "Tensor.shape\n"
      ],
      "metadata": {
        "colab": {
          "base_uri": "https://localhost:8080/"
        },
        "id": "N9yWKT-y7aIf",
        "outputId": "fa6684e6-d87c-4675-b9fa-44d9729e8035"
      },
      "execution_count": 5,
      "outputs": [
        {
          "output_type": "execute_result",
          "data": {
            "text/plain": [
              "torch.Size([3, 2, 3])"
            ]
          },
          "metadata": {},
          "execution_count": 5
        }
      ]
    },
    {
      "cell_type": "code",
      "source": [
        "Tensor[2\n",
        "       ]"
      ],
      "metadata": {
        "colab": {
          "base_uri": "https://localhost:8080/"
        },
        "id": "wGdSL7ei7g4R",
        "outputId": "293d39a1-325f-494f-cd2d-935a8a83ab74"
      },
      "execution_count": 6,
      "outputs": [
        {
          "output_type": "execute_result",
          "data": {
            "text/plain": [
              "tensor([[13, 14, 15],\n",
              "        [16, 17, 18]])"
            ]
          },
          "metadata": {},
          "execution_count": 6
        }
      ]
    },
    {
      "cell_type": "code",
      "source": [
        "random_tensors = torch.rand(3,4)\n",
        "random_tensors"
      ],
      "metadata": {
        "colab": {
          "base_uri": "https://localhost:8080/"
        },
        "id": "-_o_MiH97w-B",
        "outputId": "0b3ee952-5ceb-4ccd-8849-145b5a520989"
      },
      "execution_count": 7,
      "outputs": [
        {
          "output_type": "execute_result",
          "data": {
            "text/plain": [
              "tensor([[0.9640, 0.5470, 0.2373, 0.8189],\n",
              "        [0.1551, 0.4124, 0.8830, 0.5381],\n",
              "        [0.3294, 0.7446, 0.9671, 0.3907]])"
            ]
          },
          "metadata": {},
          "execution_count": 7
        }
      ]
    },
    {
      "cell_type": "code",
      "source": [
        "random_tensors.shape\n"
      ],
      "metadata": {
        "colab": {
          "base_uri": "https://localhost:8080/"
        },
        "id": "xBC1w9uJ9XQu",
        "outputId": "bdad83e8-6574-47ac-eaa0-e11a93ec9ff8"
      },
      "execution_count": 8,
      "outputs": [
        {
          "output_type": "execute_result",
          "data": {
            "text/plain": [
              "torch.Size([3, 4])"
            ]
          },
          "metadata": {},
          "execution_count": 8
        }
      ]
    },
    {
      "cell_type": "code",
      "source": [
        "zeros = torch.zeros(size=(3,4))\n",
        "zeros"
      ],
      "metadata": {
        "colab": {
          "base_uri": "https://localhost:8080/"
        },
        "id": "D1s2ezxE-Y7T",
        "outputId": "802779be-e8d5-4bb1-f720-f14c11cf1434"
      },
      "execution_count": 9,
      "outputs": [
        {
          "output_type": "execute_result",
          "data": {
            "text/plain": [
              "tensor([[0., 0., 0., 0.],\n",
              "        [0., 0., 0., 0.],\n",
              "        [0., 0., 0., 0.]])"
            ]
          },
          "metadata": {},
          "execution_count": 9
        }
      ]
    },
    {
      "cell_type": "code",
      "source": [
        "ones = torch.ones(size=(3,4))\n",
        "ones\n",
        "ones.dtype\n",
        "print(ones)"
      ],
      "metadata": {
        "colab": {
          "base_uri": "https://localhost:8080/"
        },
        "id": "aeBLzcbJ-nY6",
        "outputId": "5c1b4904-bdf7-451b-d487-27d66853beab"
      },
      "execution_count": 10,
      "outputs": [
        {
          "output_type": "stream",
          "name": "stdout",
          "text": [
            "tensor([[1., 1., 1., 1.],\n",
            "        [1., 1., 1., 1.],\n",
            "        [1., 1., 1., 1.]])\n"
          ]
        }
      ]
    },
    {
      "cell_type": "code",
      "source": [
        "### Creating a range of tensors"
      ],
      "metadata": {
        "id": "Atl7j7wl-nVY"
      },
      "execution_count": 11,
      "outputs": []
    },
    {
      "cell_type": "code",
      "source": [
        "torch.arange(0, 10)"
      ],
      "metadata": {
        "colab": {
          "base_uri": "https://localhost:8080/"
        },
        "id": "FJFjBnHV-nS7",
        "outputId": "1efbd37e-ac4a-4163-f8c1-a0450187008e"
      },
      "execution_count": 12,
      "outputs": [
        {
          "output_type": "execute_result",
          "data": {
            "text/plain": [
              "tensor([0, 1, 2, 3, 4, 5, 6, 7, 8, 9])"
            ]
          },
          "metadata": {},
          "execution_count": 12
        }
      ]
    },
    {
      "cell_type": "code",
      "source": [
        "torch.arange(start = 1, end = 100 , step = 10)"
      ],
      "metadata": {
        "colab": {
          "base_uri": "https://localhost:8080/"
        },
        "id": "HZMD3qqD-nQQ",
        "outputId": "9616d9a2-b0c9-46cd-dd46-73171edeeda8"
      },
      "execution_count": 13,
      "outputs": [
        {
          "output_type": "execute_result",
          "data": {
            "text/plain": [
              "tensor([ 1, 11, 21, 31, 41, 51, 61, 71, 81, 91])"
            ]
          },
          "metadata": {},
          "execution_count": 13
        }
      ]
    },
    {
      "cell_type": "code",
      "source": [
        "ten_zeroes = torch.zeros_like(torch.arange(start = 1 , end = 10))\n",
        "ten_zeroes"
      ],
      "metadata": {
        "colab": {
          "base_uri": "https://localhost:8080/"
        },
        "id": "u-MATqdO-nNd",
        "outputId": "a96c6966-37ef-4620-eb8f-a79d2241a747"
      },
      "execution_count": 14,
      "outputs": [
        {
          "output_type": "execute_result",
          "data": {
            "text/plain": [
              "tensor([0, 0, 0, 0, 0, 0, 0, 0, 0])"
            ]
          },
          "metadata": {},
          "execution_count": 14
        }
      ]
    },
    {
      "cell_type": "code",
      "source": [
        "float_32_tensor = torch.tensor([3., 6., 9.], dtype = None, device = \"cpu\")\n"
      ],
      "metadata": {
        "id": "Xzhxgt4N-nKq"
      },
      "execution_count": 15,
      "outputs": []
    },
    {
      "cell_type": "code",
      "source": [
        "float_16 = float_32_tensor.type(torch.float16)\n",
        "float_16\n"
      ],
      "metadata": {
        "colab": {
          "base_uri": "https://localhost:8080/"
        },
        "id": "OJKVwfDO0Sg4",
        "outputId": "094f494d-5a58-4758-d9b4-fc12076d550b"
      },
      "execution_count": 16,
      "outputs": [
        {
          "output_type": "execute_result",
          "data": {
            "text/plain": [
              "tensor([3., 6., 9.], dtype=torch.float16)"
            ]
          },
          "metadata": {},
          "execution_count": 16
        }
      ]
    },
    {
      "cell_type": "code",
      "source": [
        "float_16 * float_32_tensor"
      ],
      "metadata": {
        "colab": {
          "base_uri": "https://localhost:8080/"
        },
        "id": "rJ6nXKo20Sdi",
        "outputId": "09de2a4e-ef9a-4b7f-fe7b-43c483ddee5a"
      },
      "execution_count": 17,
      "outputs": [
        {
          "output_type": "execute_result",
          "data": {
            "text/plain": [
              "tensor([ 9., 36., 81.])"
            ]
          },
          "metadata": {},
          "execution_count": 17
        }
      ]
    },
    {
      "cell_type": "code",
      "source": [
        "int_32_tensor = torch.tensor([3,6,9], dtype = torch.int32)\n",
        "int_32_tensor"
      ],
      "metadata": {
        "colab": {
          "base_uri": "https://localhost:8080/"
        },
        "id": "BXU6z5y90Saz",
        "outputId": "80814340-9d3f-4882-ce08-b25767354ba7"
      },
      "execution_count": 18,
      "outputs": [
        {
          "output_type": "execute_result",
          "data": {
            "text/plain": [
              "tensor([3, 6, 9], dtype=torch.int32)"
            ]
          },
          "metadata": {},
          "execution_count": 18
        }
      ]
    },
    {
      "cell_type": "code",
      "source": [
        "# Create a tensor\n",
        "\n",
        "some_tensor = torch.rand(3,4)\n",
        "\n",
        "rand_tensor = some_tensor*100"
      ],
      "metadata": {
        "id": "vfZ-TE0t0SYO"
      },
      "execution_count": 19,
      "outputs": []
    },
    {
      "cell_type": "code",
      "source": [
        "\n",
        "print(some_tensor)\n",
        "print(f\"Datatype of tensor :{some_tensor.dtype}\")\n",
        "print(f\"Shape of tensor: {some_tensor.size}\")\n",
        "\n",
        "print(f\"Device tensor is on :{some_tensor.device}\")"
      ],
      "metadata": {
        "colab": {
          "base_uri": "https://localhost:8080/"
        },
        "id": "3bG099ym0SVg",
        "outputId": "4bc9b33d-303b-410e-861f-a7cfcabb64ed"
      },
      "execution_count": 20,
      "outputs": [
        {
          "output_type": "stream",
          "name": "stdout",
          "text": [
            "tensor([[0.7595, 0.8470, 0.6631, 0.4648],\n",
            "        [0.4711, 0.3282, 0.1403, 0.4828],\n",
            "        [0.5855, 0.3906, 0.8808, 0.4091]])\n",
            "Datatype of tensor :torch.float32\n",
            "Shape of tensor: <built-in method size of Tensor object at 0x7a2a6d2e49a0>\n",
            "Device tensor is on :cpu\n"
          ]
        }
      ]
    },
    {
      "cell_type": "markdown",
      "source": [
        "# Manipulating tensors\n",
        "\n",
        "Tensor operations include\n",
        "\n",
        "Addition\n",
        "\n",
        "substaction\n",
        "\n",
        "multiplication\n",
        "\n",
        "division\n",
        "\n",
        "matrix multiplication"
      ],
      "metadata": {
        "id": "HVyVyrog0SS4"
      }
    },
    {
      "cell_type": "code",
      "source": [
        "tensor = torch.tensor([1,2,3])\n",
        "\n",
        "tensor + 10\n",
        "\n",
        "tensor * 10\n",
        "\n",
        "tensor / 10\n"
      ],
      "metadata": {
        "colab": {
          "base_uri": "https://localhost:8080/"
        },
        "id": "sJiKJDOV0SQM",
        "outputId": "ca46478a-2fe8-4f90-ade6-21d0c57b1f44"
      },
      "execution_count": 21,
      "outputs": [
        {
          "output_type": "execute_result",
          "data": {
            "text/plain": [
              "tensor([0.1000, 0.2000, 0.3000])"
            ]
          },
          "metadata": {},
          "execution_count": 21
        }
      ]
    },
    {
      "cell_type": "code",
      "source": [
        "import torch\n",
        "\n",
        "tensor = torch.tensor([1,2,3])\n",
        "\n",
        "tensor * tensor"
      ],
      "metadata": {
        "colab": {
          "base_uri": "https://localhost:8080/"
        },
        "id": "3GlMji999b_W",
        "outputId": "6916e517-daed-4d1a-fcd4-d1caf13920c0"
      },
      "execution_count": 22,
      "outputs": [
        {
          "output_type": "execute_result",
          "data": {
            "text/plain": [
              "tensor([1, 4, 9])"
            ]
          },
          "metadata": {},
          "execution_count": 22
        }
      ]
    },
    {
      "cell_type": "code",
      "source": [
        "torch.matmul(tensor, tensor)"
      ],
      "metadata": {
        "colab": {
          "base_uri": "https://localhost:8080/"
        },
        "id": "9o4onQ9I9b71",
        "outputId": "4793c428-dbf1-46f5-cce0-deca0867bd5d"
      },
      "execution_count": 23,
      "outputs": [
        {
          "output_type": "execute_result",
          "data": {
            "text/plain": [
              "tensor(14)"
            ]
          },
          "metadata": {},
          "execution_count": 23
        }
      ]
    },
    {
      "cell_type": "code",
      "source": [
        "%%time\n",
        "\n",
        "value = 0 ;\n",
        "\n",
        "for i in range (len(tensor)):\n",
        "\n",
        "  value = value + tensor[i] * tensor[i]\n",
        "\n",
        "print(value)"
      ],
      "metadata": {
        "colab": {
          "base_uri": "https://localhost:8080/"
        },
        "id": "L2-fFAJF9b5m",
        "outputId": "66a12480-8743-40f0-ddc5-d83696b0c35d"
      },
      "execution_count": 24,
      "outputs": [
        {
          "output_type": "stream",
          "name": "stdout",
          "text": [
            "tensor(14)\n",
            "CPU times: user 1.26 ms, sys: 79 µs, total: 1.34 ms\n",
            "Wall time: 1.66 ms\n"
          ]
        }
      ]
    },
    {
      "cell_type": "code",
      "source": [
        "%%time\n",
        "\n",
        "torch.matmul(tensor, tensor)"
      ],
      "metadata": {
        "colab": {
          "base_uri": "https://localhost:8080/"
        },
        "id": "akZixaIm9b21",
        "outputId": "d17495b3-88dc-492b-a776-5fa7dac6984e"
      },
      "execution_count": 25,
      "outputs": [
        {
          "output_type": "stream",
          "name": "stdout",
          "text": [
            "CPU times: user 44 µs, sys: 7 µs, total: 51 µs\n",
            "Wall time: 55.3 µs\n"
          ]
        },
        {
          "output_type": "execute_result",
          "data": {
            "text/plain": [
              "tensor(14)"
            ]
          },
          "metadata": {},
          "execution_count": 25
        }
      ]
    },
    {
      "cell_type": "code",
      "source": [
        "(torch.matmul(torch.rand(3,100), torch.rand(100,3))*100).shape"
      ],
      "metadata": {
        "colab": {
          "base_uri": "https://localhost:8080/"
        },
        "id": "p8tdpKL89b0I",
        "outputId": "5bc406cd-41d3-4963-f071-1fd50853f624"
      },
      "execution_count": 26,
      "outputs": [
        {
          "output_type": "execute_result",
          "data": {
            "text/plain": [
              "torch.Size([3, 3])"
            ]
          },
          "metadata": {},
          "execution_count": 26
        }
      ]
    },
    {
      "cell_type": "code",
      "source": [
        "# Shapes for matrix multiplication\n",
        "\n",
        "import torch\n",
        "\n",
        "tensor_A = torch.rand(3,2)\n",
        "\n",
        "tensor_B = torch.rand(3,2)\n",
        "\n",
        "torch.matmul(tensor_A, tensor_B.T).shape\n",
        "\n",
        "tensor_B.T"
      ],
      "metadata": {
        "id": "Q4Ejb9jU9bxk",
        "colab": {
          "base_uri": "https://localhost:8080/"
        },
        "outputId": "c0b9441c-7b85-4578-fd8f-fc8781838a71"
      },
      "execution_count": 27,
      "outputs": [
        {
          "output_type": "execute_result",
          "data": {
            "text/plain": [
              "tensor([[0.9627, 0.9069, 0.0738],\n",
              "        [0.3486, 0.3950, 0.4700]])"
            ]
          },
          "metadata": {},
          "execution_count": 27
        }
      ]
    },
    {
      "cell_type": "code",
      "source": [
        "## Finding the min, max, mean, sum, etc (tensor aggregation)\n",
        "\n",
        "x = torch.arange(0,100,10)\n",
        "\n",
        "x\n",
        "\n",
        "x.dtype"
      ],
      "metadata": {
        "id": "B1BqJeaj9bu_",
        "colab": {
          "base_uri": "https://localhost:8080/"
        },
        "outputId": "c526857c-4385-4a72-9846-34d0ba5c53bb"
      },
      "execution_count": 28,
      "outputs": [
        {
          "output_type": "execute_result",
          "data": {
            "text/plain": [
              "torch.int64"
            ]
          },
          "metadata": {},
          "execution_count": 28
        }
      ]
    },
    {
      "cell_type": "code",
      "source": [
        "torch.min(x), x.min()"
      ],
      "metadata": {
        "id": "MFjlks999bsO",
        "colab": {
          "base_uri": "https://localhost:8080/"
        },
        "outputId": "590078a7-1b5e-4c2c-8db9-3f055e10f8b4"
      },
      "execution_count": 29,
      "outputs": [
        {
          "output_type": "execute_result",
          "data": {
            "text/plain": [
              "(tensor(0), tensor(0))"
            ]
          },
          "metadata": {},
          "execution_count": 29
        }
      ]
    },
    {
      "cell_type": "code",
      "source": [
        "torch.max(x), x.max()"
      ],
      "metadata": {
        "id": "SENHEjcp9bpg",
        "colab": {
          "base_uri": "https://localhost:8080/"
        },
        "outputId": "6dcca300-e7eb-425e-b6fa-ebe59831dcd2"
      },
      "execution_count": 30,
      "outputs": [
        {
          "output_type": "execute_result",
          "data": {
            "text/plain": [
              "(tensor(90), tensor(90))"
            ]
          },
          "metadata": {},
          "execution_count": 30
        }
      ]
    },
    {
      "cell_type": "code",
      "source": [
        "torch.mean(x.type(torch.float32))"
      ],
      "metadata": {
        "colab": {
          "base_uri": "https://localhost:8080/"
        },
        "id": "qfGvmTqoKels",
        "outputId": "8993ef8f-2ac4-4ec8-f9c9-b12cd71ecbd6"
      },
      "execution_count": 31,
      "outputs": [
        {
          "output_type": "execute_result",
          "data": {
            "text/plain": [
              "tensor(45.)"
            ]
          },
          "metadata": {},
          "execution_count": 31
        }
      ]
    },
    {
      "cell_type": "code",
      "source": [
        "# finding the sum\n",
        "\n",
        "torch.sum(x)\n",
        "\n",
        "#finding the positional min and max\n",
        "\n",
        "x.argmin(), x.argmax()"
      ],
      "metadata": {
        "colab": {
          "base_uri": "https://localhost:8080/"
        },
        "id": "MAAL8OmtKeia",
        "outputId": "7e7edbd3-67dd-4500-e374-0575e8f01d5d"
      },
      "execution_count": 32,
      "outputs": [
        {
          "output_type": "execute_result",
          "data": {
            "text/plain": [
              "(tensor(0), tensor(9))"
            ]
          },
          "metadata": {},
          "execution_count": 32
        }
      ]
    },
    {
      "cell_type": "markdown",
      "source": [
        "## reshaping , stacking, squeezing and unsqueezing tensors\n",
        "\n",
        "reshaping = reshapes an input tensor to a defined shape\n",
        "\n",
        "view teturn a view of an input tensor of certain shape but keeps the same as the orginal one"
      ],
      "metadata": {
        "id": "wZbPSnfyKefk"
      }
    },
    {
      "cell_type": "code",
      "source": [
        "x= torch.arange(1. , 10.)\n",
        "\n",
        "x, x.shape"
      ],
      "metadata": {
        "colab": {
          "base_uri": "https://localhost:8080/"
        },
        "id": "NbpMwX15KedA",
        "outputId": "62b9e5d9-74fc-442a-aaf0-d9f0ad8f0984"
      },
      "execution_count": 33,
      "outputs": [
        {
          "output_type": "execute_result",
          "data": {
            "text/plain": [
              "(tensor([1., 2., 3., 4., 5., 6., 7., 8., 9.]), torch.Size([9]))"
            ]
          },
          "metadata": {},
          "execution_count": 33
        }
      ]
    },
    {
      "cell_type": "code",
      "source": [
        "x_reshaped = x.reshape(1, 9)\n",
        "\n",
        "x_reshaped , x_reshaped.shape"
      ],
      "metadata": {
        "id": "r_n98nWXKeaL",
        "colab": {
          "base_uri": "https://localhost:8080/"
        },
        "outputId": "45600c88-fc73-4706-d492-2b81d0bc2a01"
      },
      "execution_count": 34,
      "outputs": [
        {
          "output_type": "execute_result",
          "data": {
            "text/plain": [
              "(tensor([[1., 2., 3., 4., 5., 6., 7., 8., 9.]]), torch.Size([1, 9]))"
            ]
          },
          "metadata": {},
          "execution_count": 34
        }
      ]
    },
    {
      "cell_type": "code",
      "source": [
        "z = x.view(1, 9)\n",
        "\n",
        "z, z.shape"
      ],
      "metadata": {
        "id": "OgpTiEyJKeXg",
        "colab": {
          "base_uri": "https://localhost:8080/"
        },
        "outputId": "ed6fec94-2dc6-4f6f-cf60-76278dc6c50f"
      },
      "execution_count": 35,
      "outputs": [
        {
          "output_type": "execute_result",
          "data": {
            "text/plain": [
              "(tensor([[1., 2., 3., 4., 5., 6., 7., 8., 9.]]), torch.Size([1, 9]))"
            ]
          },
          "metadata": {},
          "execution_count": 35
        }
      ]
    },
    {
      "cell_type": "code",
      "source": [
        "z[:, 0] = 5\n",
        "\n",
        "z , x"
      ],
      "metadata": {
        "id": "dwUfTI2gKeU7",
        "colab": {
          "base_uri": "https://localhost:8080/"
        },
        "outputId": "a05a5eab-6465-4d5e-c6d8-448a78d7bf96"
      },
      "execution_count": 36,
      "outputs": [
        {
          "output_type": "execute_result",
          "data": {
            "text/plain": [
              "(tensor([[5., 2., 3., 4., 5., 6., 7., 8., 9.]]),\n",
              " tensor([5., 2., 3., 4., 5., 6., 7., 8., 9.]))"
            ]
          },
          "metadata": {},
          "execution_count": 36
        }
      ]
    },
    {
      "cell_type": "code",
      "source": [
        "#Stacking tensors on top of each other\n",
        "\n",
        "x_stacked = torch.stack([x, x, x, x], dim = 1)\n",
        "\n",
        "x_stacked"
      ],
      "metadata": {
        "id": "23Z2HPEfKeSL",
        "colab": {
          "base_uri": "https://localhost:8080/"
        },
        "outputId": "a3bb49fd-f84b-431a-fe33-6936934b3abf"
      },
      "execution_count": 37,
      "outputs": [
        {
          "output_type": "execute_result",
          "data": {
            "text/plain": [
              "tensor([[5., 5., 5., 5.],\n",
              "        [2., 2., 2., 2.],\n",
              "        [3., 3., 3., 3.],\n",
              "        [4., 4., 4., 4.],\n",
              "        [5., 5., 5., 5.],\n",
              "        [6., 6., 6., 6.],\n",
              "        [7., 7., 7., 7.],\n",
              "        [8., 8., 8., 8.],\n",
              "        [9., 9., 9., 9.]])"
            ]
          },
          "metadata": {},
          "execution_count": 37
        }
      ]
    },
    {
      "cell_type": "code",
      "source": [
        "#torch. squeez\n",
        "\n",
        "x_reshaped, x_reshaped.shape"
      ],
      "metadata": {
        "id": "2V4nIn-WKePc",
        "colab": {
          "base_uri": "https://localhost:8080/"
        },
        "outputId": "d95151dc-10d3-4bb8-fe5b-8c886cfd6be0"
      },
      "execution_count": 38,
      "outputs": [
        {
          "output_type": "execute_result",
          "data": {
            "text/plain": [
              "(tensor([[5., 2., 3., 4., 5., 6., 7., 8., 9.]]), torch.Size([1, 9]))"
            ]
          },
          "metadata": {},
          "execution_count": 38
        }
      ]
    },
    {
      "cell_type": "code",
      "source": [
        "y = x_reshaped.squeeze()\n",
        "\n",
        "y.shape, x_reshaped.shape"
      ],
      "metadata": {
        "id": "tTR7dyACKeM1",
        "colab": {
          "base_uri": "https://localhost:8080/"
        },
        "outputId": "9bc05631-a013-4276-f6c8-83569a851dcf"
      },
      "execution_count": 39,
      "outputs": [
        {
          "output_type": "execute_result",
          "data": {
            "text/plain": [
              "(torch.Size([9]), torch.Size([1, 9]))"
            ]
          },
          "metadata": {},
          "execution_count": 39
        }
      ]
    },
    {
      "cell_type": "code",
      "source": [
        "y = y.unsqueeze(dim =1)\n",
        "\n",
        "y"
      ],
      "metadata": {
        "id": "Io62hOMVKeKT",
        "colab": {
          "base_uri": "https://localhost:8080/"
        },
        "outputId": "bcb16a31-dfb8-4532-bb99-8f8cd5cd7900"
      },
      "execution_count": 40,
      "outputs": [
        {
          "output_type": "execute_result",
          "data": {
            "text/plain": [
              "tensor([[5.],\n",
              "        [2.],\n",
              "        [3.],\n",
              "        [4.],\n",
              "        [5.],\n",
              "        [6.],\n",
              "        [7.],\n",
              "        [8.],\n",
              "        [9.]])"
            ]
          },
          "metadata": {},
          "execution_count": 40
        }
      ]
    },
    {
      "cell_type": "code",
      "source": [
        "# torch.unsqueeze"
      ],
      "metadata": {
        "id": "pfBIJ0C9KeHo"
      },
      "execution_count": 41,
      "outputs": []
    },
    {
      "cell_type": "code",
      "source": [
        "#torch. permute changes the size of the size of the tensor in a specified order\n",
        "\n",
        "x=torch.rand(2,3,5)\n",
        "\n",
        "torch.permute(x, (2, 0, 1)).size()\n",
        "\n",
        "x_original = torch.rand(size=(224, 224, 3))\n",
        "\n",
        "x_permuted = torch.permute(x_original , (2, 0, 1))\n",
        "\n",
        "print(f\"The orginal tensor is {x_original.shape}\")\n",
        "\n",
        "print(f\"The permuted tensor is {x_permuted.shape}\")\n"
      ],
      "metadata": {
        "id": "0n0_vli0KeE1",
        "colab": {
          "base_uri": "https://localhost:8080/"
        },
        "outputId": "65a65622-4c95-4c03-d9d2-9218b0a9818f"
      },
      "execution_count": 42,
      "outputs": [
        {
          "output_type": "stream",
          "name": "stdout",
          "text": [
            "The orginal tensor is torch.Size([224, 224, 3])\n",
            "The permuted tensor is torch.Size([3, 224, 224])\n"
          ]
        }
      ]
    },
    {
      "cell_type": "code",
      "source": [
        "x_original[0, 0, 0] = 2345\n",
        "\n",
        "x_original[0, 0, 0] , x_permuted[0, 0, 0]"
      ],
      "metadata": {
        "id": "fezHaY4L9bm8",
        "colab": {
          "base_uri": "https://localhost:8080/"
        },
        "outputId": "358a36e8-d76b-4b62-a2da-8b09ad4dbe36"
      },
      "execution_count": 43,
      "outputs": [
        {
          "output_type": "execute_result",
          "data": {
            "text/plain": [
              "(tensor(2345.), tensor(2345.))"
            ]
          },
          "metadata": {},
          "execution_count": 43
        }
      ]
    },
    {
      "cell_type": "markdown",
      "source": [
        "from torch.return_types import nanmedian\n",
        "## indexing selectiondata from tensors\n",
        "\n",
        "\n",
        "indesing with pytorch is similar dto indexing with numpy"
      ],
      "metadata": {
        "id": "Opp7y_Jl9bkW"
      }
    },
    {
      "cell_type": "code",
      "source": [
        "import torch\n",
        "\n",
        "x = torch.arange(1, 10).reshape(1, 3, 3)\n",
        "\n",
        "x, x.shape\n",
        "\n"
      ],
      "metadata": {
        "id": "--Ce81iM9biH",
        "colab": {
          "base_uri": "https://localhost:8080/"
        },
        "outputId": "829ec9c7-2c70-46d6-b3c3-e61442c93f83"
      },
      "execution_count": 44,
      "outputs": [
        {
          "output_type": "execute_result",
          "data": {
            "text/plain": [
              "(tensor([[[1, 2, 3],\n",
              "          [4, 5, 6],\n",
              "          [7, 8, 9]]]),\n",
              " torch.Size([1, 3, 3]))"
            ]
          },
          "metadata": {},
          "execution_count": 44
        }
      ]
    },
    {
      "cell_type": "code",
      "source": [
        "x[:, :, 1]"
      ],
      "metadata": {
        "id": "8Gyk96ZA9be4",
        "colab": {
          "base_uri": "https://localhost:8080/"
        },
        "outputId": "b13af061-d7e6-453c-aa75-cfc1a4bbb5b0"
      },
      "execution_count": 45,
      "outputs": [
        {
          "output_type": "execute_result",
          "data": {
            "text/plain": [
              "tensor([[2, 5, 8]])"
            ]
          },
          "metadata": {},
          "execution_count": 45
        }
      ]
    },
    {
      "cell_type": "code",
      "source": [
        "## Pytorch tensors and numpy\n",
        "\n"
      ],
      "metadata": {
        "id": "UJvQrccs9bcb"
      },
      "execution_count": 46,
      "outputs": []
    },
    {
      "cell_type": "code",
      "source": [],
      "metadata": {
        "id": "9naaBuu19bZw"
      },
      "execution_count": 46,
      "outputs": []
    },
    {
      "cell_type": "code",
      "source": [],
      "metadata": {
        "id": "k9HSw2jb9bXS"
      },
      "execution_count": 46,
      "outputs": []
    },
    {
      "cell_type": "code",
      "source": [],
      "metadata": {
        "id": "S9z7qwig9bU2"
      },
      "execution_count": 46,
      "outputs": []
    },
    {
      "cell_type": "code",
      "source": [],
      "metadata": {
        "id": "GTe9eXhW9bR-"
      },
      "execution_count": 46,
      "outputs": []
    },
    {
      "cell_type": "code",
      "source": [],
      "metadata": {
        "id": "go2-zmES9bPh"
      },
      "execution_count": 46,
      "outputs": []
    },
    {
      "cell_type": "code",
      "source": [],
      "metadata": {
        "id": "-HRi8dNZ0SNe"
      },
      "execution_count": 46,
      "outputs": []
    },
    {
      "cell_type": "code",
      "source": [],
      "metadata": {
        "id": "AfdJf4X60SKu"
      },
      "execution_count": 46,
      "outputs": []
    },
    {
      "cell_type": "code",
      "source": [],
      "metadata": {
        "id": "5qLiAe2u-nH1"
      },
      "execution_count": 46,
      "outputs": []
    },
    {
      "cell_type": "code",
      "source": [],
      "metadata": {
        "id": "QB6yGCWx-nE4"
      },
      "execution_count": 46,
      "outputs": []
    },
    {
      "cell_type": "code",
      "source": [],
      "metadata": {
        "id": "hbIqyXHgNQsQ"
      },
      "execution_count": 46,
      "outputs": []
    },
    {
      "cell_type": "code",
      "source": [],
      "metadata": {
        "id": "EYZb7U4QNQos"
      },
      "execution_count": 46,
      "outputs": []
    },
    {
      "cell_type": "code",
      "source": [],
      "metadata": {
        "id": "MNhuAy5TNQl2"
      },
      "execution_count": 46,
      "outputs": []
    },
    {
      "cell_type": "code",
      "source": [],
      "metadata": {
        "id": "guJYzsWNNQi8"
      },
      "execution_count": 46,
      "outputs": []
    },
    {
      "cell_type": "code",
      "source": [],
      "metadata": {
        "id": "hv0EGmS_NQf1"
      },
      "execution_count": 46,
      "outputs": []
    },
    {
      "cell_type": "code",
      "source": [],
      "metadata": {
        "id": "GoYwJ7MpNQc4"
      },
      "execution_count": 46,
      "outputs": []
    },
    {
      "cell_type": "code",
      "source": [],
      "metadata": {
        "id": "XDpcHLxNNQZ9"
      },
      "execution_count": 46,
      "outputs": []
    },
    {
      "cell_type": "code",
      "source": [],
      "metadata": {
        "id": "YrS6RhU9NQXD"
      },
      "execution_count": 46,
      "outputs": []
    },
    {
      "cell_type": "code",
      "source": [],
      "metadata": {
        "id": "68CIbpTeNQUE"
      },
      "execution_count": 46,
      "outputs": []
    },
    {
      "cell_type": "code",
      "source": [],
      "metadata": {
        "id": "8u8qoofWNQQ5"
      },
      "execution_count": 46,
      "outputs": []
    },
    {
      "cell_type": "code",
      "source": [],
      "metadata": {
        "id": "RsSAHQgjNQNt"
      },
      "execution_count": 46,
      "outputs": []
    },
    {
      "cell_type": "code",
      "source": [],
      "metadata": {
        "id": "yTruyW1jNQLN"
      },
      "execution_count": 46,
      "outputs": []
    },
    {
      "cell_type": "code",
      "source": [],
      "metadata": {
        "id": "xyUgrStPNQIo"
      },
      "execution_count": 46,
      "outputs": []
    },
    {
      "cell_type": "code",
      "source": [],
      "metadata": {
        "id": "nzhP40SZNQF2"
      },
      "execution_count": 46,
      "outputs": []
    },
    {
      "cell_type": "code",
      "source": [],
      "metadata": {
        "id": "g0BSbotvNQDk"
      },
      "execution_count": 46,
      "outputs": []
    },
    {
      "cell_type": "code",
      "source": [],
      "metadata": {
        "id": "R9Ulg3vCNQA8"
      },
      "execution_count": 46,
      "outputs": []
    },
    {
      "cell_type": "code",
      "source": [],
      "metadata": {
        "id": "y0-dD3l8NP-L"
      },
      "execution_count": 46,
      "outputs": []
    },
    {
      "cell_type": "code",
      "source": [],
      "metadata": {
        "id": "IC2QvEp0NP7i"
      },
      "execution_count": 46,
      "outputs": []
    },
    {
      "cell_type": "code",
      "source": [],
      "metadata": {
        "id": "iEJILzI1NP4v"
      },
      "execution_count": 46,
      "outputs": []
    },
    {
      "cell_type": "code",
      "source": [],
      "metadata": {
        "id": "PEjYctC5-nBp"
      },
      "execution_count": 46,
      "outputs": []
    }
  ]
}